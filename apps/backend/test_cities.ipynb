{
 "cells": [
  {
   "cell_type": "code",
   "id": "initial_id",
   "metadata": {
    "collapsed": true,
    "ExecuteTime": {
     "end_time": "2025-05-19T19:55:27.039466Z",
     "start_time": "2025-05-19T19:55:27.030982Z"
    }
   },
   "source": [
    "import polars as pl\n",
    "c = pl.read_parquet('parquet/summer/cities.parquet')"
   ],
   "outputs": [],
   "execution_count": 2
  },
  {
   "metadata": {
    "ExecuteTime": {
     "end_time": "2025-05-19T19:55:29.912576Z",
     "start_time": "2025-05-19T19:55:29.899461Z"
    }
   },
   "cell_type": "code",
   "source": "c",
   "id": "9f80e51c9a3b15df",
   "outputs": [
    {
     "data": {
      "text/plain": [
       "shape: (1_260, 37)\n",
       "┌───────────┬───────────┬───────────┬───────────┬───┬───────────┬───────────┬───────────┬──────────┐\n",
       "│ geonameid ┆ name      ┆ alternate ┆ latitude  ┆ … ┆ FJD_no_h6 ┆ average_d ┆ FJDS_no_h ┆ average_ │\n",
       "│ ---       ┆ ---       ┆ names     ┆ ---       ┆   ┆ _1        ┆ istance_t ┆ 6_1       ┆ distance │\n",
       "│ i64       ┆ str       ┆ ---       ┆ f64       ┆   ┆ ---       ┆ o_FJD     ┆ ---       ┆ _to_FJDS │\n",
       "│           ┆           ┆ str       ┆           ┆   ┆ i64       ┆ ---       ┆ i64       ┆ ---      │\n",
       "│           ┆           ┆           ┆           ┆   ┆           ┆ f64       ┆           ┆ f64      │\n",
       "╞═══════════╪═══════════╪═══════════╪═══════════╪═══╪═══════════╪═══════════╪═══════════╪══════════╡\n",
       "│ 3577430   ┆ Road Town ┆ Road      ┆ 18.42693  ┆ … ┆ 0         ┆ null      ┆ 0         ┆ null     │\n",
       "│           ┆           ┆ Town,Rod  ┆           ┆   ┆           ┆           ┆           ┆          │\n",
       "│           ┆           ┆ Taunas,Ro ┆           ┆   ┆           ┆           ┆           ┆          │\n",
       "│           ┆           ┆ d-Taun,…  ┆           ┆   ┆           ┆           ┆           ┆          │\n",
       "│ 456172    ┆ Riga      ┆ RIX,Reiga ┆ 56.946    ┆ … ┆ 0         ┆ null      ┆ 0         ┆ null     │\n",
       "│           ┆           ┆ ,Riga,Rig ┆           ┆   ┆           ┆           ┆           ┆          │\n",
       "│           ┆           ┆ ae,Rige,R ┆           ┆   ┆           ┆           ┆           ┆          │\n",
       "│           ┆           ┆ igg…      ┆           ┆   ┆           ┆           ┆           ┆          │\n",
       "│ 459201    ┆ Jūrmala   ┆ Jurmala,J ┆ 56.968    ┆ … ┆ 0         ┆ null      ┆ 0         ┆ null     │\n",
       "│           ┆           ┆ ūrmala,Ri ┆           ┆   ┆           ┆           ┆           ┆          │\n",
       "│           ┆           ┆ ga Beach, ┆           ┆   ┆           ┆           ┆           ┆          │\n",
       "│           ┆           ┆ Rig…      ┆           ┆   ┆           ┆           ┆           ┆          │\n",
       "│ 454310    ┆ Ventspils ┆ VNT,Vents ┆ 57.39485  ┆ … ┆ 0         ┆ null      ┆ 0         ┆ null     │\n",
       "│           ┆           ┆ pilis,Ven ┆           ┆   ┆           ┆           ┆           ┆          │\n",
       "│           ┆           ┆ tspils,Vi ┆           ┆   ┆           ┆           ┆           ┆          │\n",
       "│           ┆           ┆ nda…      ┆           ┆   ┆           ┆           ┆           ┆          │\n",
       "│ 3439389   ┆ Asunción  ┆ ASU,Asoun ┆ -25.28646 ┆ … ┆ 0         ┆ null      ┆ 0         ┆ null     │\n",
       "│           ┆           ┆ sion,Asou ┆           ┆   ┆           ┆           ┆           ┆          │\n",
       "│           ┆           ┆ nsyon,Aso ┆           ┆   ┆           ┆           ┆           ┆          │\n",
       "│           ┆           ┆ uns…      ┆           ┆   ┆           ┆           ┆           ┆          │\n",
       "│ …         ┆ …         ┆ …         ┆ …         ┆ … ┆ …         ┆ …         ┆ …         ┆ …        │\n",
       "│ 962367    ┆ Richards  ┆ RCB,Ricar ┆ -28.78301 ┆ … ┆ 0         ┆ null      ┆ 0         ┆ null     │\n",
       "│           ┆ Bay       ┆ dusbaia,R ┆           ┆   ┆           ┆           ┆           ┆          │\n",
       "│           ┆           ┆ ichards   ┆           ┆   ┆           ┆           ┆           ┆          │\n",
       "│           ┆           ┆ Bay,…     ┆           ┆   ┆           ┆           ┆           ┆          │\n",
       "│ 3369157   ┆ Cape Town ┆ Altepetl  ┆ -33.92584 ┆ … ┆ 0         ┆ null      ┆ 0         ┆ null     │\n",
       "│           ┆           ┆ In        ┆           ┆   ┆           ┆           ┆           ┆          │\n",
       "│           ┆           ┆ Cabo,Ar   ┆           ┆   ┆           ┆           ┆           ┆          │\n",
       "│           ┆           ┆ Chab,CPT, ┆           ┆   ┆           ┆           ┆           ┆          │\n",
       "│           ┆           ┆ C…        ┆           ┆   ┆           ┆           ┆           ┆          │\n",
       "│ 1021360   ┆ Ballito   ┆ Ballitovi ┆ -29.53897 ┆ … ┆ 0         ┆ null      ┆ 0         ┆ null     │\n",
       "│           ┆           ┆ lle       ┆           ┆   ┆           ┆           ┆           ┆          │\n",
       "│ 233508    ┆ Entebbe   ┆ EBB,Ehnte ┆ 0.05621   ┆ … ┆ 0         ┆ null      ┆ 0         ┆ null     │\n",
       "│           ┆           ┆ bbe,Enteb ┆           ┆   ┆           ┆           ┆           ┆          │\n",
       "│           ┆           ┆ be,Entebe ┆           ┆   ┆           ┆           ┆           ┆          │\n",
       "│           ┆           ┆ ,En…      ┆           ┆   ┆           ┆           ┆           ┆          │\n",
       "│ 1559446   ┆ Koror     ┆ Goreor,Go ┆ 7.33978   ┆ … ┆ 0         ┆ null      ┆ 0         ┆ null     │\n",
       "│           ┆           ┆ ror,Koreo ┆           ┆   ┆           ┆           ┆           ┆          │\n",
       "│           ┆           ┆ r,Koror,K ┆           ┆   ┆           ┆           ┆           ┆          │\n",
       "│           ┆           ┆ oro…      ┆           ┆   ┆           ┆           ┆           ┆          │\n",
       "└───────────┴───────────┴───────────┴───────────┴───┴───────────┴───────────┴───────────┴──────────┘"
      ],
      "text/html": [
       "<div><style>\n",
       ".dataframe > thead > tr,\n",
       ".dataframe > tbody > tr {\n",
       "  text-align: right;\n",
       "  white-space: pre-wrap;\n",
       "}\n",
       "</style>\n",
       "<small>shape: (1_260, 37)</small><table border=\"1\" class=\"dataframe\"><thead><tr><th>geonameid</th><th>name</th><th>alternatenames</th><th>latitude</th><th>longitude</th><th>feature_code</th><th>country_code</th><th>population</th><th>elevation</th><th>number_of_hotels</th><th>number_of_hotels_lux</th><th>h3_index_0</th><th>h3_index_1</th><th>h3_index_2</th><th>h3_index_3</th><th>h3_index_4</th><th>h3_index_5</th><th>h3_index_6</th><th>h3_index_7</th><th>BCH_no_h6_1</th><th>average_distance_to_BCH</th><th>BCHS_no_h6_1</th><th>average_distance_to_BCHS</th><th>BAY_no_h6_1</th><th>average_distance_to_BAY</th><th>BAYS_no_h6_1</th><th>average_distance_to_BAYS</th><th>COVE_no_h6_1</th><th>average_distance_to_COVE</th><th>LGN_no_h6_1</th><th>average_distance_to_LGN</th><th>GULF_no_h6_1</th><th>average_distance_to_GULF</th><th>FJD_no_h6_1</th><th>average_distance_to_FJD</th><th>FJDS_no_h6_1</th><th>average_distance_to_FJDS</th></tr><tr><td>i64</td><td>str</td><td>str</td><td>f64</td><td>f64</td><td>str</td><td>str</td><td>i64</td><td>f64</td><td>i64</td><td>i64</td><td>str</td><td>str</td><td>str</td><td>str</td><td>str</td><td>str</td><td>str</td><td>str</td><td>i64</td><td>f64</td><td>i64</td><td>f64</td><td>i64</td><td>f64</td><td>i64</td><td>f64</td><td>i64</td><td>f64</td><td>i64</td><td>f64</td><td>i64</td><td>f64</td><td>i64</td><td>f64</td><td>i64</td><td>f64</td></tr></thead><tbody><tr><td>3577430</td><td>&quot;Road Town&quot;</td><td>&quot;Road Town,Rod Taunas,Rod-Taun,…</td><td>18.42693</td><td>-64.62079</td><td>&quot;PPLC&quot;</td><td>&quot;VG&quot;</td><td>8449</td><td>9.0</td><td>19</td><td>4</td><td>&quot;804dfffffffffff&quot;</td><td>&quot;814cfffffffffff&quot;</td><td>&quot;824ceffffffffff&quot;</td><td>&quot;834ce8fffffffff&quot;</td><td>&quot;844ce8bffffffff&quot;</td><td>&quot;854ce8a3fffffff&quot;</td><td>&quot;864ce8a07ffffff&quot;</td><td>&quot;874ce8a01ffffff&quot;</td><td>0</td><td>null</td><td>0</td><td>null</td><td>19</td><td>1.733306</td><td>0</td><td>null</td><td>5</td><td>1.774466</td><td>3</td><td>1.595552</td><td>0</td><td>null</td><td>0</td><td>null</td><td>0</td><td>null</td></tr><tr><td>456172</td><td>&quot;Riga&quot;</td><td>&quot;RIX,Reiga,Riga,Rigae,Rige,Rigg…</td><td>56.946</td><td>24.10589</td><td>&quot;PPLC&quot;</td><td>&quot;LV&quot;</td><td>742572</td><td>null</td><td>554</td><td>28</td><td>&quot;801ffffffffffff&quot;</td><td>&quot;811f7ffffffffff&quot;</td><td>&quot;821f67fffffffff&quot;</td><td>&quot;831f60fffffffff&quot;</td><td>&quot;841f607ffffffff&quot;</td><td>&quot;851f6077fffffff&quot;</td><td>&quot;861f60777ffffff&quot;</td><td>&quot;871f60774ffffff&quot;</td><td>0</td><td>null</td><td>0</td><td>null</td><td>0</td><td>null</td><td>0</td><td>null</td><td>0</td><td>null</td><td>1</td><td>3.271541</td><td>0</td><td>null</td><td>0</td><td>null</td><td>0</td><td>null</td></tr><tr><td>459201</td><td>&quot;Jūrmala&quot;</td><td>&quot;Jurmala,Jūrmala,Riga Beach,Rig…</td><td>56.968</td><td>23.77038</td><td>&quot;PPLA&quot;</td><td>&quot;LV&quot;</td><td>54088</td><td>null</td><td>81</td><td>5</td><td>&quot;801ffffffffffff&quot;</td><td>&quot;811f7ffffffffff&quot;</td><td>&quot;821f67fffffffff&quot;</td><td>&quot;831f60fffffffff&quot;</td><td>&quot;841f605ffffffff&quot;</td><td>&quot;851f6047fffffff&quot;</td><td>&quot;861f6046fffffff&quot;</td><td>&quot;871f6046cffffff&quot;</td><td>1</td><td>8.474153</td><td>0</td><td>null</td><td>0</td><td>null</td><td>0</td><td>null</td><td>0</td><td>null</td><td>0</td><td>null</td><td>0</td><td>null</td><td>0</td><td>null</td><td>0</td><td>null</td></tr><tr><td>454310</td><td>&quot;Ventspils&quot;</td><td>&quot;VNT,Ventspilis,Ventspils,Vinda…</td><td>57.39485</td><td>21.56121</td><td>&quot;PPLA&quot;</td><td>&quot;LV&quot;</td><td>42644</td><td>null</td><td>221</td><td>1</td><td>&quot;801ffffffffffff&quot;</td><td>&quot;811f7ffffffffff&quot;</td><td>&quot;821f67fffffffff&quot;</td><td>&quot;831f66fffffffff&quot;</td><td>&quot;841f66dffffffff&quot;</td><td>&quot;851f66d7fffffff&quot;</td><td>&quot;861f66d47ffffff&quot;</td><td>&quot;871f66d43ffffff&quot;</td><td>1</td><td>3.800725</td><td>0</td><td>null</td><td>0</td><td>null</td><td>0</td><td>null</td><td>0</td><td>null</td><td>0</td><td>null</td><td>0</td><td>null</td><td>0</td><td>null</td><td>0</td><td>null</td></tr><tr><td>3439389</td><td>&quot;Asunción&quot;</td><td>&quot;ASU,Asounsion,Asounsyon,Asouns…</td><td>-25.28646</td><td>-57.647</td><td>&quot;PPLC&quot;</td><td>&quot;PY&quot;</td><td>1482200</td><td>null</td><td>80</td><td>7</td><td>&quot;80a9fffffffffff&quot;</td><td>&quot;81a97ffffffffff&quot;</td><td>&quot;82a94ffffffffff&quot;</td><td>&quot;83a94efffffffff&quot;</td><td>&quot;84a94e5ffffffff&quot;</td><td>&quot;85a94e57fffffff&quot;</td><td>&quot;86a94e55fffffff&quot;</td><td>&quot;87a94e558ffffff&quot;</td><td>0</td><td>null</td><td>0</td><td>null</td><td>1</td><td>2.670441</td><td>0</td><td>null</td><td>0</td><td>null</td><td>0</td><td>null</td><td>0</td><td>null</td><td>0</td><td>null</td><td>0</td><td>null</td></tr><tr><td>&hellip;</td><td>&hellip;</td><td>&hellip;</td><td>&hellip;</td><td>&hellip;</td><td>&hellip;</td><td>&hellip;</td><td>&hellip;</td><td>&hellip;</td><td>&hellip;</td><td>&hellip;</td><td>&hellip;</td><td>&hellip;</td><td>&hellip;</td><td>&hellip;</td><td>&hellip;</td><td>&hellip;</td><td>&hellip;</td><td>&hellip;</td><td>&hellip;</td><td>&hellip;</td><td>&hellip;</td><td>&hellip;</td><td>&hellip;</td><td>&hellip;</td><td>&hellip;</td><td>&hellip;</td><td>&hellip;</td><td>&hellip;</td><td>&hellip;</td><td>&hellip;</td><td>&hellip;</td><td>&hellip;</td><td>&hellip;</td><td>&hellip;</td><td>&hellip;</td><td>&hellip;</td></tr><tr><td>962367</td><td>&quot;Richards Bay&quot;</td><td>&quot;RCB,Ricardusbaia,Richards Bay,…</td><td>-28.78301</td><td>32.03768</td><td>&quot;PPLA2&quot;</td><td>&quot;ZA&quot;</td><td>252968</td><td>null</td><td>44</td><td>3</td><td>&quot;80bdfffffffffff&quot;</td><td>&quot;81bcfffffffffff&quot;</td><td>&quot;82bcf7fffffffff&quot;</td><td>&quot;83bcf4fffffffff&quot;</td><td>&quot;84bcf47ffffffff&quot;</td><td>&quot;85bcf46bfffffff&quot;</td><td>&quot;86bcf46b7ffffff&quot;</td><td>&quot;87bcf46b1ffffff&quot;</td><td>5</td><td>7.27861</td><td>0</td><td>null</td><td>1</td><td>2.998857</td><td>0</td><td>null</td><td>0</td><td>null</td><td>1</td><td>5.846526</td><td>0</td><td>null</td><td>0</td><td>null</td><td>0</td><td>null</td></tr><tr><td>3369157</td><td>&quot;Cape Town&quot;</td><td>&quot;Altepetl In Cabo,Ar Chab,CPT,C…</td><td>-33.92584</td><td>18.42322</td><td>&quot;PPLA&quot;</td><td>&quot;ZA&quot;</td><td>4710000</td><td>null</td><td>1511</td><td>183</td><td>&quot;80adfffffffffff&quot;</td><td>&quot;81ad3ffffffffff&quot;</td><td>&quot;82ad37fffffffff&quot;</td><td>&quot;83ad36fffffffff&quot;</td><td>&quot;84ad361ffffffff&quot;</td><td>&quot;85ad3617fffffff&quot;</td><td>&quot;86ad36157ffffff&quot;</td><td>&quot;87ad36151ffffff&quot;</td><td>3</td><td>4.677928</td><td>0</td><td>null</td><td>11</td><td>3.245875</td><td>0</td><td>null</td><td>4</td><td>4.300637</td><td>1</td><td>7.189069</td><td>0</td><td>null</td><td>0</td><td>null</td><td>0</td><td>null</td></tr><tr><td>1021360</td><td>&quot;Ballito&quot;</td><td>&quot;Ballitoville&quot;</td><td>-29.53897</td><td>31.21439</td><td>&quot;PPL&quot;</td><td>&quot;ZA&quot;</td><td>17218</td><td>null</td><td>267</td><td>20</td><td>&quot;80bdfffffffffff&quot;</td><td>&quot;81bcfffffffffff&quot;</td><td>&quot;82bcf7fffffffff&quot;</td><td>&quot;83bcf5fffffffff&quot;</td><td>&quot;84bcf5dffffffff&quot;</td><td>&quot;85bcf5d3fffffff&quot;</td><td>&quot;86bcf5d07ffffff&quot;</td><td>&quot;87bcf5d03ffffff&quot;</td><td>5</td><td>1.247313</td><td>0</td><td>null</td><td>1</td><td>0.715392</td><td>0</td><td>null</td><td>0</td><td>null</td><td>0</td><td>null</td><td>0</td><td>null</td><td>0</td><td>null</td><td>0</td><td>null</td></tr><tr><td>233508</td><td>&quot;Entebbe&quot;</td><td>&quot;EBB,Ehntebbe,Entebbe,Entebe,En…</td><td>0.05621</td><td>32.47949</td><td>&quot;PPL&quot;</td><td>&quot;UG&quot;</td><td>62969</td><td>null</td><td>113</td><td>10</td><td>&quot;806bfffffffffff&quot;</td><td>&quot;816afffffffffff&quot;</td><td>&quot;826acffffffffff&quot;</td><td>&quot;836ac8fffffffff&quot;</td><td>&quot;846ac89ffffffff&quot;</td><td>&quot;856ac883fffffff&quot;</td><td>&quot;866ac8817ffffff&quot;</td><td>&quot;876ac8811ffffff&quot;</td><td>0</td><td>null</td><td>0</td><td>null</td><td>3</td><td>4.490568</td><td>0</td><td>null</td><td>0</td><td>null</td><td>0</td><td>null</td><td>0</td><td>null</td><td>0</td><td>null</td><td>0</td><td>null</td></tr><tr><td>1559446</td><td>&quot;Koror&quot;</td><td>&quot;Goreor,Goror,Koreor,Koror,Koro…</td><td>7.33978</td><td>134.47326</td><td>&quot;PPLA&quot;</td><td>&quot;PW&quot;</td><td>14000</td><td>20.0</td><td>45</td><td>2</td><td>&quot;8073fffffffffff&quot;</td><td>&quot;81733ffffffffff&quot;</td><td>&quot;82731ffffffffff&quot;</td><td>&quot;83731bfffffffff&quot;</td><td>&quot;84731b9ffffffff&quot;</td><td>&quot;85731b8ffffffff&quot;</td><td>&quot;86731b8c7ffffff&quot;</td><td>&quot;87731b8c6ffffff&quot;</td><td>0</td><td>null</td><td>0</td><td>null</td><td>8</td><td>5.960671</td><td>0</td><td>null</td><td>0</td><td>null</td><td>0</td><td>null</td><td>0</td><td>null</td><td>0</td><td>null</td><td>0</td><td>null</td></tr></tbody></table></div>"
      ]
     },
     "execution_count": 3,
     "metadata": {},
     "output_type": "execute_result"
    }
   ],
   "execution_count": 3
  },
  {
   "metadata": {},
   "cell_type": "code",
   "outputs": [],
   "execution_count": null,
   "source": "",
   "id": "ff1104b93ab3f5c8"
  }
 ],
 "metadata": {
  "kernelspec": {
   "display_name": "Python 3",
   "language": "python",
   "name": "python3"
  },
  "language_info": {
   "codemirror_mode": {
    "name": "ipython",
    "version": 2
   },
   "file_extension": ".py",
   "mimetype": "text/x-python",
   "name": "python",
   "nbconvert_exporter": "python",
   "pygments_lexer": "ipython2",
   "version": "2.7.6"
  }
 },
 "nbformat": 4,
 "nbformat_minor": 5
}
